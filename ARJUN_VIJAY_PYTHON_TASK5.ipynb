{
  "nbformat": 4,
  "nbformat_minor": 0,
  "metadata": {
    "colab": {
      "provenance": [],
      "include_colab_link": true
    },
    "kernelspec": {
      "name": "python3",
      "display_name": "Python 3"
    },
    "language_info": {
      "name": "python"
    }
  },
  "cells": [
    {
      "cell_type": "markdown",
      "metadata": {
        "id": "view-in-github",
        "colab_type": "text"
      },
      "source": [
        "<a href=\"https://colab.research.google.com/github/ARJUNVIJAYMK/python_assignment/blob/my_sql_assignment/ARJUN_VIJAY_PYTHON_TASK5.ipynb\" target=\"_parent\"><img src=\"https://colab.research.google.com/assets/colab-badge.svg\" alt=\"Open In Colab\"/></a>"
      ]
    },
    {
      "cell_type": "code",
      "execution_count": null,
      "metadata": {
        "id": "snEMetxnTKud",
        "colab": {
          "base_uri": "https://localhost:8080/"
        },
        "outputId": "79e2d21e-e7fa-4807-a2ab-e580aaadb734"
      },
      "outputs": [
        {
          "output_type": "stream",
          "name": "stdout",
          "text": [
            "input radius as in cm : 6\n",
            "Radius of the circle: 6\n",
            "Area of the circle: 113.09733552923255\n",
            "Perimeter of the circle: 37.69911184307752\n"
          ]
        }
      ],
      "source": [
        "import math\n",
        "\n",
        "class Circle:\n",
        "    def __init__(self, radius):\n",
        "        self.radius = radius\n",
        "\n",
        "    def area(self):\n",
        "        return math.pi * self.radius**2\n",
        "\n",
        "    def perimeter(self):\n",
        "        return 2 * math.pi * self.radius\n",
        "\n",
        "# Example usage:\n",
        "radius_value =int(input(\"input radius as in cm : \"))\n",
        "my_circle = Circle(radius_value)\n",
        "\n",
        "print(f\"Radius of the circle: {radius_value}\")\n",
        "print(f\"Area of the circle: {my_circle.area()}\")\n",
        "print(f\"Perimeter of the circle: {my_circle.perimeter()}\")"
      ]
    },
    {
      "cell_type": "markdown",
      "source": [
        "# 1. Write a Python program to create a class representing a Circle. Include methods to calculate its area and perimeter."
      ],
      "metadata": {
        "id": "030QdsTVTRc6"
      }
    },
    {
      "cell_type": "markdown",
      "source": [
        "# 2. Write a Python program to create a calculator class. Include methods for basic arithmetic operations."
      ],
      "metadata": {
        "id": "bq6rlBimaDMz"
      }
    },
    {
      "cell_type": "code",
      "source": [
        "class Calculator:\n",
        "    def add(self, num1, num2):\n",
        "        return num1 + num2\n",
        "\n",
        "    def subtract(self, num1, num2):\n",
        "        return num1 - num2\n",
        "\n",
        "    def multiply(self, num1, num2):\n",
        "        return num1 * num2\n",
        "\n",
        "    def divide(self, num1, num2):\n",
        "        if num2 == 0:\n",
        "            return \"Error: Cannot divide by zero\"\n",
        "        else:\n",
        "            return num1 / num2\n",
        "\n",
        "# Example usage:\n",
        "calculator = Calculator()\n",
        "\n",
        "num1 = 10\n",
        "num2 = 5\n",
        "\n",
        "print(f\"Addition: {num1} + {num2} = {calculator.add(num1, num2)}\")\n",
        "print(f\"Subtraction: {num1} - {num2} = {calculator.subtract(num1, num2)}\")\n",
        "print(f\"Multiplication: {num1} * {num2} = {calculator.multiply(num1, num2)}\")\n",
        "print(f\"Division: {num1} / {num2} = {calculator.divide(num1, num2)}\")\n"
      ],
      "metadata": {
        "id": "Ahn8bRYcaYV_"
      },
      "execution_count": null,
      "outputs": []
    },
    {
      "cell_type": "markdown",
      "source": [
        "# 3. Write a Python program to create a class that represents a shape. Include methods to calculate its area and perimeter. Implement subclasses for different shapes like circle, triangle, and square.\n"
      ],
      "metadata": {
        "id": "pfppKs8Ea7iE"
      }
    },
    {
      "cell_type": "code",
      "source": [
        "import math\n",
        "\n",
        "class Shape:\n",
        "    def area(self):\n",
        "        pass\n",
        "\n",
        "    def perimeter(self):\n",
        "        pass\n",
        "\n",
        "class Circle(Shape):\n",
        "    def __init__(self, radius):\n",
        "        self.radius = radius\n",
        "\n",
        "    def area(self):\n",
        "        return math.pi * self.radius**2\n",
        "\n",
        "    def perimeter(self):\n",
        "        return 2 * math.pi * self.radius\n",
        "\n",
        "class Triangle(Shape):\n",
        "    def __init__(self, side1, side2, side3):\n",
        "        self.side1 = side1\n",
        "        self.side2 =\n"
      ],
      "metadata": {
        "id": "9HMIoXlMa8XX"
      },
      "execution_count": null,
      "outputs": []
    }
  ]
}