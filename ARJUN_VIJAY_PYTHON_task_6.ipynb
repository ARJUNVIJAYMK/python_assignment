{
  "nbformat": 4,
  "nbformat_minor": 0,
  "metadata": {
    "colab": {
      "provenance": [],
      "include_colab_link": true
    },
    "kernelspec": {
      "name": "python3",
      "display_name": "Python 3"
    },
    "language_info": {
      "name": "python"
    }
  },
  "cells": [
    {
      "cell_type": "markdown",
      "metadata": {
        "id": "view-in-github",
        "colab_type": "text"
      },
      "source": [
        "<a href=\"https://colab.research.google.com/github/ARJUNVIJAYMK/python_assignment/blob/my_sql_assignment/ARJUN_VIJAY_PYTHON_task_6.ipynb\" target=\"_parent\"><img src=\"https://colab.research.google.com/assets/colab-badge.svg\" alt=\"Open In Colab\"/></a>"
      ]
    },
    {
      "cell_type": "markdown",
      "source": [
        "1. Write a Python program to check that a string contains only a certain set of characters (in this case a-z, A-Z and 0-9).\n",
        "\n"
      ],
      "metadata": {
        "id": "fpQX9wBhb6ox"
      }
    },
    {
      "cell_type": "code",
      "execution_count": null,
      "metadata": {
        "id": "5HKhizIkbt59",
        "outputId": "32508a27-1ba5-4644-e6ee-afb748917878",
        "colab": {
          "base_uri": "https://localhost:8080/"
        }
      },
      "outputs": [
        {
          "output_type": "stream",
          "name": "stdout",
          "text": [
            "input your name: arjun vijay\n",
            "input your address: edakkara\n",
            "arjun vijay contains disallowed characters.\n",
            "edakkara contains only allowed characters.\n"
          ]
        }
      ],
      "source": [
        "import re\n",
        "\n",
        "def contains_only_allowed_chars(input_string):\n",
        "    # Define the regex pattern for allowed characters (a-z, A-Z, and 0-9)\n",
        "    pattern = re.compile(\"^[a-zA-Z0-9]+$\")\n",
        "\n",
        "    # Use the pattern to match the input string\n",
        "    match = pattern.match(input_string)\n",
        "\n",
        "    # If there is a match, the string contains only allowed characters\n",
        "    return bool(match)\n",
        "\n",
        "# Example usage:\n",
        "test_string1 = input(\"input your name: \")\n",
        "test_string2 = input(\"input your address: \")\n",
        "\n",
        "if contains_only_allowed_chars(test_string1):\n",
        "    print(f\"{test_string1} contains only allowed characters.\")\n",
        "else:\n",
        "    print(f\"{test_string1} contains disallowed characters.\")\n",
        "\n",
        "if contains_only_allowed_chars(test_string2):\n",
        "    print(f\"{test_string2} contains only allowed characters.\")\n",
        "else:\n",
        "    print(f\"{test_string2} contains disallowed characters.\")\n"
      ]
    },
    {
      "cell_type": "markdown",
      "source": [
        "2. Write a Python program that matches a string that has an a followed by zero or more b's.\n",
        "\n"
      ],
      "metadata": {
        "id": "rtdxRzltcRtS"
      }
    },
    {
      "cell_type": "code",
      "source": [
        "import re\n",
        "\n",
        "def match_pattern(input_string):\n",
        "    match = re.findall('b',input_string)\n",
        "    if match:\n",
        "        print(f'The input string \"{input_string}\" matches the pattern.')\n",
        "    else:\n",
        "        print(f'The input string \"{input_string}\" does not match the pattern.')\n",
        "\n",
        "# Example\n",
        "input_string1 = 'abbbbbc'\n",
        "input_string2 = 'abb'\n",
        "input_string3 = 'ac'\n",
        "input_string4 = 'a'\n",
        "\n",
        "match_pattern(input_string1)\n",
        "match_pattern(input_string2)\n",
        "match_pattern(input_string3)\n",
        "match_pattern(input_string4)"
      ],
      "metadata": {
        "id": "ZjdCBYZAcZGl",
        "colab": {
          "base_uri": "https://localhost:8080/"
        },
        "outputId": "56138e75-2284-470f-8557-7c2dd335c7f1"
      },
      "execution_count": null,
      "outputs": [
        {
          "output_type": "stream",
          "name": "stdout",
          "text": [
            "The input string \"abbbbbc\" matches the pattern.\n",
            "The input string \"abb\" matches the pattern.\n",
            "The input string \"ac\" does not match the pattern.\n",
            "The input string \"a\" does not match the pattern.\n"
          ]
        }
      ]
    },
    {
      "cell_type": "markdown",
      "source": [
        "3. Replace only the first occurrence of 5 with five for the given string\n",
        "\n"
      ],
      "metadata": {
        "id": "kyvbz3eNcZri"
      }
    },
    {
      "cell_type": "code",
      "source": [
        "ip = 'They ate 5 apples and 5 oranges'\n",
        "import re\n",
        "def first_occurrence_of_5(ip):\n",
        "   new_string = re.sub(r'5', 'five', ip, count=1)\n",
        "   print(f'Original string: {ip}')\n",
        "   print(f'String after replacement: {new_string}')\n",
        "\n",
        "first_occurrence_of_5(ip)\n",
        "\n",
        "\n",
        "\n"
      ],
      "metadata": {
        "id": "pgZy45dxcqSg",
        "colab": {
          "base_uri": "https://localhost:8080/"
        },
        "outputId": "79dd9811-5a50-4269-e85e-94641c0c6edf"
      },
      "execution_count": null,
      "outputs": [
        {
          "output_type": "stream",
          "name": "stdout",
          "text": [
            "Original string: They ate 5 apples and 5 oranges\n",
            "String after replacement: They ate five apples and 5 oranges\n"
          ]
        }
      ]
    },
    {
      "cell_type": "markdown",
      "source": [
        "4. Write a Python program that matches a string that has an a followed by three 'b'.\n",
        "\n"
      ],
      "metadata": {
        "id": "h_b1-o6ncuzM"
      }
    },
    {
      "cell_type": "code",
      "source": [
        "import re\n",
        "\n",
        "def match_pattern(input_string):\n",
        "    match = p= re.findall('bbb',input_string)\n",
        "\n",
        "    if match:\n",
        "        print(f'The input string \"{input_string}\" matches the pattern.')\n",
        "    else:\n",
        "        print(f'The input string \"{input_string}\" does not match the pattern.')\n",
        "\n",
        "# Example usage:\n",
        "input_string1 = 'bb'\n",
        "input_string2 = 'bbb'\n",
        "input_string3 = 'arjun company was bbb'\n",
        "input_string4 = 'bc'\n",
        "input_string5 = 'b'\n",
        "\n",
        "match_pattern(input_string1)\n",
        "match_pattern(input_string2)\n",
        "match_pattern(input_string3)\n",
        "match_pattern(input_string4)\n",
        "match_pattern(input_string5)\n"
      ],
      "metadata": {
        "id": "eWIRl3LccqwE",
        "colab": {
          "base_uri": "https://localhost:8080/"
        },
        "outputId": "5fe24422-b718-41d5-8399-1fe25b18cbdb"
      },
      "execution_count": null,
      "outputs": [
        {
          "output_type": "stream",
          "name": "stdout",
          "text": [
            "The input string \"bb\" does not match the pattern.\n",
            "The input string \"bbb\" matches the pattern.\n",
            "The input string \"arjun company was bbb\" matches the pattern.\n",
            "The input string \"bc\" does not match the pattern.\n",
            "The input string \"b\" does not match the pattern.\n"
          ]
        }
      ]
    },
    {
      "cell_type": "markdown",
      "source": [
        "5. Write a Python program that matches a string that has an 'a' followed by anything ending in 'b'.\n",
        "\n"
      ],
      "metadata": {
        "id": "K2vPe01bc2LN"
      }
    },
    {
      "cell_type": "code",
      "source": [
        "import re\n",
        "\n",
        "def match_pattern(input_string):\n",
        "    pattern = re.compile(r'a.*b$')\n",
        "    match = pattern.fullmatch(input_string)\n",
        "\n",
        "    if match:\n",
        "        print(f'The input string \"{input_string}\" matches the pattern.')\n",
        "    else:\n",
        "        print(f'The input string \"{input_string}\" does not match the pattern.')\n",
        "\n",
        "# Example usage:\n",
        "input_string1 = 'acdb'\n",
        "input_string2 = 'ab'\n",
        "input_string3 = 'c1234b'\n",
        "input_string4 = 'aabb'\n",
        "input_string5 = 'abc'\n",
        "input_string6 = 'axbyz'\n",
        "\n",
        "match_pattern(input_string1)\n",
        "match_pattern(input_string2)\n",
        "match_pattern(input_string3)\n",
        "match_pattern(input_string4)\n",
        "match_pattern(input_string5)\n",
        "match_pattern(input_string6)\n",
        "\n"
      ],
      "metadata": {
        "id": "f8KfX59qc3UJ",
        "colab": {
          "base_uri": "https://localhost:8080/"
        },
        "outputId": "6a8f0dde-ec95-481a-c5e6-cb623c1636be"
      },
      "execution_count": null,
      "outputs": [
        {
          "output_type": "stream",
          "name": "stdout",
          "text": [
            "The input string \"acdb\" matches the pattern.\n",
            "The input string \"ab\" matches the pattern.\n",
            "The input string \"c1234b\" does not match the pattern.\n",
            "The input string \"aabb\" matches the pattern.\n",
            "The input string \"abc\" does not match the pattern.\n",
            "The input string \"axbyz\" does not match the pattern.\n"
          ]
        }
      ]
    },
    {
      "cell_type": "markdown",
      "source": [
        "6. Write a Python program to search for numbers (0-9) of length between 1 and 3 in a given string."
      ],
      "metadata": {
        "id": "NyL-DhqXdZi7"
      }
    },
    {
      "cell_type": "code",
      "source": [
        "txt=\"Exercises number 1, 12, 13, and 345 are important\"\n",
        "import re\n",
        "\n",
        "def find_numbers(txt):\n",
        "    pattern = re.compile(r'\\b\\d{1,3}\\b')\n",
        "    matches = pattern.findall(txt)\n",
        "\n",
        "    if matches:\n",
        "        print(f'Numbers found in the input string: {matches}')\n",
        "    else:\n",
        "        print('No numbers of length 1 to 3 found in the input string.')\n",
        "\n",
        "find_numbers(txt)\n"
      ],
      "metadata": {
        "id": "pWsu0HljdnKX",
        "colab": {
          "base_uri": "https://localhost:8080/"
        },
        "outputId": "8e6ca9f5-252d-4362-940c-52b70740d833"
      },
      "execution_count": null,
      "outputs": [
        {
          "output_type": "stream",
          "name": "stdout",
          "text": [
            "Numbers found in the input string: ['1', '12', '13', '345']\n"
          ]
        }
      ]
    },
    {
      "cell_type": "markdown",
      "source": [
        "7. Write a Python program to search for literal strings within a string.\\\n",
        "Sample text : 'The quick brown fox jumps over the lazy dog.' \\\n",
        "Searched words : 'fox', 'dog', 'horse'"
      ],
      "metadata": {
        "id": "aWaHWXFjdqy7"
      }
    },
    {
      "cell_type": "code",
      "source": [
        "import re\n",
        "\n",
        "def search_strings(sample_text, searched_words):\n",
        "    for word in searched_words:\n",
        "        if re.search(re.escape(word), sample_text):\n",
        "            print(f'The word \"{word}\" is found in the sample text.')\n",
        "        else:\n",
        "            print(f'The word \"{word}\" is not found in the sample text.')\n",
        "\n",
        "# Given example\n",
        "sample_text = 'The quick brown fox jumps over the lazy dog.'\n",
        "searched_words = ['fox', 'dog', 'horse']\n",
        "\n",
        "search_strings(sample_text, searched_words)\n"
      ],
      "metadata": {
        "id": "bVAMeTMddnmf",
        "colab": {
          "base_uri": "https://localhost:8080/"
        },
        "outputId": "a8981bc3-605a-49a8-8662-e1a02a4a13b3"
      },
      "execution_count": null,
      "outputs": [
        {
          "output_type": "stream",
          "name": "stdout",
          "text": [
            "The word \"fox\" is found in the sample text.\n",
            "The word \"dog\" is found in the sample text.\n",
            "The word \"horse\" is not found in the sample text.\n"
          ]
        }
      ]
    },
    {
      "cell_type": "markdown",
      "source": [
        "8. Write a Python program to search for a literal string in a string and also find the location within the original string where the pattern occurs.\n",
        "\n",
        "Sample text : 'The quick brown fox jumps over the lazy dog.' \\\n",
        "Searched words : 'fox'"
      ],
      "metadata": {
        "id": "2cgZLc6Yd0sE"
      }
    },
    {
      "cell_type": "code",
      "source": [
        "import re\n",
        "\n",
        "def search_string_regex(original_string, search_word):\n",
        "    pattern = re.escape(search_word)\n",
        "    match = re.search(pattern, original_string)\n",
        "\n",
        "    if match:\n",
        "        start_index = match.start()\n",
        "        print(f'The word \"{search_word}\" is found at index {start_index} in the original string.')\n",
        "    else:\n",
        "        print(f'The word \"{search_word}\" is not found in the original string.')\n",
        "\n",
        "# Sample text\n",
        "sample_text = 'The quick brown fox jumps over the lazy dog.'\n",
        "\n",
        "# Searched word\n",
        "searched_word = 'fox'\n",
        "\n",
        "# Perform the regex search\n",
        "search_string_regex(sample_text, searched_word)\n"
      ],
      "metadata": {
        "id": "Tj1FCCx4d3zZ",
        "colab": {
          "base_uri": "https://localhost:8080/"
        },
        "outputId": "2f8d498d-5657-41c2-d988-c51d1b80b76b"
      },
      "execution_count": null,
      "outputs": [
        {
          "output_type": "stream",
          "name": "stdout",
          "text": [
            "The word \"fox\" is found at index 16 in the original string.\n"
          ]
        }
      ]
    },
    {
      "cell_type": "markdown",
      "source": [
        "9.  Write a Python program to extract year, month and date from an URL"
      ],
      "metadata": {
        "id": "ixuwdsnvdtcP"
      }
    },
    {
      "cell_type": "code",
      "source": [
        "url1= \"https://www.washingtonpost.com/news/football-insider/wp/2016/09/02/odell-beckhams-fame-rests-on-one-stupid-little-ball-josh-norman-tells-author/\"\n",
        "\n",
        "import re\n",
        "def extract_from_URL(url1):\n",
        " # Search for the pattern in the URL\n",
        "  match=re.search(r'(\\d{4})/(\\d{1,2})/(\\d{1,2})',url1)\n",
        "\n",
        "  if match:\n",
        "        year, month, day = match.groups()\n",
        "        print(f'Year: {year}, Month: {month}, Day: {day}')\n",
        "  else:\n",
        "        print('No date information found in the URL.')\n",
        "extract_from_URL(url1)"
      ],
      "metadata": {
        "id": "uWA2_OfJeFpw",
        "colab": {
          "base_uri": "https://localhost:8080/"
        },
        "outputId": "8b4e65c2-9c58-49db-ca58-709597f97099"
      },
      "execution_count": null,
      "outputs": [
        {
          "output_type": "stream",
          "name": "stdout",
          "text": [
            "Year: 2016, Month: 09, Day: 02\n"
          ]
        }
      ]
    },
    {
      "cell_type": "markdown",
      "source": [
        "10. Write a Python program to find URLs in a string.\n",
        "\n"
      ],
      "metadata": {
        "id": "Qdob8Ojkea-W"
      }
    },
    {
      "cell_type": "code",
      "source": [
        "from urllib.parse import urlparse\n",
        "import re\n",
        "\n",
        "def find_urls_in_html(html_text):\n",
        "    # Define a regex pattern for finding URLs within anchor tags\n",
        "    url_pattern = re.compile(r'<a\\s+[^>]*href=[\"\\'](https?://\\S+)[\"\\'][^>]*>')\n",
        "\n",
        "    # Find all matches in the HTML text\n",
        "    matches = re.findall(url_pattern, html_text)\n",
        "\n",
        "    return matches\n",
        "\n",
        "# Example HTML text\n",
        "html_text = '<p>Contents :</p><a href=\"https://w3resource.com\">Python Examples</a><a href=\"http://github.com\">Even More Examples</a>'\n",
        "\n",
        "# Find URLs in the HTML text\n",
        "urls = find_urls_in_html(html_text)\n",
        "\n",
        "# Print the found URLs\n",
        "for url in urls:\n",
        "    parsed_url = urlparse(url)\n",
        "    print(f\"URL: {url}\\nScheme: {parsed_url.scheme}\\nNetloc: {parsed_url.netloc}\\nPath: {parsed_url.path}\\n\")\n"
      ],
      "metadata": {
        "id": "d9KUcdQEeIJu",
        "colab": {
          "base_uri": "https://localhost:8080/"
        },
        "outputId": "cd5bd919-6f8f-4ab2-bee3-e88694fa1e35"
      },
      "execution_count": null,
      "outputs": [
        {
          "output_type": "stream",
          "name": "stdout",
          "text": [
            "URL: https://w3resource.com\n",
            "Scheme: https\n",
            "Netloc: w3resource.com\n",
            "Path: \n",
            "\n",
            "URL: http://github.com\n",
            "Scheme: http\n",
            "Netloc: github.com\n",
            "Path: \n",
            "\n"
          ]
        }
      ]
    },
    {
      "cell_type": "markdown",
      "source": [
        "11. Write a Python program to remove the parenthesis area in a string.\\\n",
        "\n",
        "Sample data : [\"example (.com)\", \"w3resource\", \"github (.com)\", \"stackoverflow (.com)\"] \\\n",
        "Expected Output: \\\n",
        "example  \\\n",
        "w3resource \\\n",
        "github  \\\n",
        "stackoverflow. \\\n",
        "\n"
      ],
      "metadata": {
        "id": "5mX_cCEFepSi"
      }
    },
    {
      "cell_type": "code",
      "source": [
        "import re\n",
        "\n",
        "def remove_parenthesis_area(strings):\n",
        "    result = []\n",
        "    for s in strings:\n",
        "        # Use a regular expression to remove the parenthesis area\n",
        "        cleaned_string = re.sub(r'\\s*\\([^)]*\\)\\s*', '', s)\n",
        "        result.append(cleaned_string)\n",
        "\n",
        "    return result\n",
        "\n",
        "# Example usage:\n",
        "sample_data = [\"example (.com)\", \"w3resource\", \"github (.com)\", \"stackoverflow (.com)\"]\n",
        "output = remove_parenthesis_area(sample_data)\n",
        "\n",
        "# Display the expected output\n",
        "for o in output:\n",
        "    print(o)\n"
      ],
      "metadata": {
        "id": "CNYOSWfLee_M",
        "colab": {
          "base_uri": "https://localhost:8080/"
        },
        "outputId": "6bf642ee-d1fa-4595-ee00-b7b2912940e9"
      },
      "execution_count": null,
      "outputs": [
        {
          "output_type": "stream",
          "name": "stdout",
          "text": [
            "example\n",
            "w3resource\n",
            "github\n",
            "stackoverflow\n"
          ]
        }
      ]
    },
    {
      "cell_type": "markdown",
      "source": [
        "12. Write a Python program to concatenate the consecutive numbers in a given string. \\\n",
        "\n",
        "Original string:  \\\n",
        "Enter at 1 20 Kearny Street. The security desk can direct you to floor 1 6. Please have your identification ready.  \\\n",
        "\n",
        "After concatenating the consecutive numbers in the said string:  \\\n",
        "Enter at 120 Kearny Street. The security desk can direct you to floor 16. Please have your identification ready."
      ],
      "metadata": {
        "id": "sRhveFHXe7nz"
      }
    },
    {
      "cell_type": "code",
      "source": [
        "import re\n",
        "\n",
        "def concatenate_consecutive_numbers(input_string):\n",
        "    # Use a regular expression to find consecutive numbers\n",
        "    pattern = re.compile(r'(\\d+)\\s*(?=\\d)')\n",
        "\n",
        "    # Use re.sub with a lambda function to concatenate consecutive numbers\n",
        "    result = pattern.sub(lambda match: match.group(1), input_string)\n",
        "\n",
        "    return result\n",
        "\n",
        "# Example usage:\n",
        "original_string = \"Enter at 1 20 Kearny Street. The security desk can direct you to floor 1 6. Please have your identification ready.\"\n",
        "concatenated_string = concatenate_consecutive_numbers(original_string)\n",
        "\n",
        "# Display the result\n",
        "print(\"Original string:\")\n",
        "print(original_string)\n",
        "print(\"\\nAfter concatenating the consecutive numbers:\")\n",
        "print(concatenated_string)\n"
      ],
      "metadata": {
        "id": "4dcBL0RTe_zP",
        "colab": {
          "base_uri": "https://localhost:8080/"
        },
        "outputId": "f214d5cd-c3c3-494a-e524-bb8c08590414"
      },
      "execution_count": null,
      "outputs": [
        {
          "output_type": "stream",
          "name": "stdout",
          "text": [
            "Original string:\n",
            "Enter at 1 20 Kearny Street. The security desk can direct you to floor 1 6. Please have your identification ready.\n",
            "\n",
            "After concatenating the consecutive numbers:\n",
            "Enter at 120 Kearny Street. The security desk can direct you to floor 16. Please have your identification ready.\n"
          ]
        }
      ]
    },
    {
      "cell_type": "markdown",
      "source": [],
      "metadata": {
        "id": "rENrD10afBB3"
      }
    }
  ]
}